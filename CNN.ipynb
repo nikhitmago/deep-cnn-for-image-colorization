{
  "nbformat": 4,
  "nbformat_minor": 0,
  "metadata": {
    "colab": {
      "name": "Nikhit_Mago_(1239414525)_INF_552_Assignment_6_Problem_2.ipynb",
      "version": "0.3.2",
      "views": {},
      "default_view": {},
      "provenance": []
    },
    "kernelspec": {
      "name": "python3",
      "display_name": "Python 3"
    },
    "accelerator": "GPU"
  },
  "cells": [
    {
      "metadata": {
        "id": "XYE9ZcRdkOgO",
        "colab_type": "code",
        "colab": {
          "autoexec": {
            "startup": false,
            "wait_interval": 0
          },
          "base_uri": "https://localhost:8080/",
          "height": 34
        },
        "outputId": "e6396d32-18ab-4558-d999-f4b963b81704",
        "executionInfo": {
          "status": "ok",
          "timestamp": 1525511463314,
          "user_tz": 420,
          "elapsed": 5334,
          "user": {
            "displayName": "Nikhit Mago",
            "photoUrl": "//lh6.googleusercontent.com/-IOZbLxhhfXY/AAAAAAAAAAI/AAAAAAAAACw/aRWa6bD7Ugg/s50-c-k-no/photo.jpg",
            "userId": "113522563813844672954"
          }
        }
      },
      "cell_type": "code",
      "source": [
        "import io\n",
        "import numpy as np\n",
        "import pandas as pd\n",
        "import keras\n",
        "from keras.models import Sequential\n",
        "from keras.layers import Dropout, MaxPooling2D, Conv2D, Dense\n",
        "from keras.datasets import cifar10\n",
        "from sklearn.cluster import KMeans\n",
        "import matplotlib.pyplot as plt\n",
        "from skimage.color import rgb2grey\n",
        "%matplotlib inline"
      ],
      "execution_count": 1,
      "outputs": [
        {
          "output_type": "stream",
          "text": [
            "Using TensorFlow backend.\n"
          ],
          "name": "stderr"
        }
      ]
    },
    {
      "metadata": {
        "id": "TCRkJ_cY3F1Q",
        "colab_type": "text"
      },
      "cell_type": "markdown",
      "source": [
        "## 2. (Deep) CNNs for Image Colorization"
      ]
    },
    {
      "metadata": {
        "id": "WeTvPIT53Uwg",
        "colab_type": "text"
      },
      "cell_type": "markdown",
      "source": [
        "### (a) This assignment uses a convolutional neural network for image colorization which turns a gray scale image to a colored image. By converting an image to grayscale, we loose color information, so converting a grayscale image back to a colored version is not an easy job. We will use the CIFAR-10 dataset. Downolad the dataset from http://www.cs.toronto.edu/~kriz/cifar-10-python.tar.gz."
      ]
    },
    {
      "metadata": {
        "id": "aX74bzqGkOg6",
        "colab_type": "code",
        "colab": {
          "autoexec": {
            "startup": false,
            "wait_interval": 0
          }
        }
      },
      "cell_type": "code",
      "source": [
        "(X_train, y_train), (X_test, y_test) = cifar10.load_data()"
      ],
      "execution_count": 0,
      "outputs": []
    },
    {
      "metadata": {
        "id": "GBux1B22kOg-",
        "colab_type": "code",
        "colab": {
          "autoexec": {
            "startup": false,
            "wait_interval": 0
          },
          "base_uri": "https://localhost:8080/",
          "height": 34
        },
        "outputId": "311632a8-151e-4571-dd20-283ebf2475b3",
        "executionInfo": {
          "status": "ok",
          "timestamp": 1525513120770,
          "user_tz": 420,
          "elapsed": 299,
          "user": {
            "displayName": "Nikhit Mago",
            "photoUrl": "//lh6.googleusercontent.com/-IOZbLxhhfXY/AAAAAAAAAAI/AAAAAAAAACw/aRWa6bD7Ugg/s50-c-k-no/photo.jpg",
            "userId": "113522563813844672954"
          }
        }
      },
      "cell_type": "code",
      "source": [
        "X_train.shape, y_train.shape, X_test.shape, y_test.shape"
      ],
      "execution_count": 78,
      "outputs": [
        {
          "output_type": "execute_result",
          "data": {
            "text/plain": [
              "((50000, 32, 32, 3), (50000, 1), (10000, 32, 32, 3), (10000, 1))"
            ]
          },
          "metadata": {
            "tags": []
          },
          "execution_count": 78
        }
      ]
    },
    {
      "metadata": {
        "id": "JAyvjm92kOhF",
        "colab_type": "code",
        "colab": {
          "autoexec": {
            "startup": false,
            "wait_interval": 0
          }
        }
      },
      "cell_type": "code",
      "source": [
        "X = np.vstack((X_train,X_test))\n",
        "y = np.vstack((y_train,y_test))"
      ],
      "execution_count": 0,
      "outputs": []
    },
    {
      "metadata": {
        "id": "DWOoem6hkOhH",
        "colab_type": "code",
        "colab": {
          "autoexec": {
            "startup": false,
            "wait_interval": 0
          }
        }
      },
      "cell_type": "code",
      "source": [
        "y = y.flatten()"
      ],
      "execution_count": 0,
      "outputs": []
    },
    {
      "metadata": {
        "id": "WP6ocjRykOhJ",
        "colab_type": "code",
        "colab": {
          "autoexec": {
            "startup": false,
            "wait_interval": 0
          },
          "base_uri": "https://localhost:8080/",
          "height": 34
        },
        "outputId": "23072008-dd21-478f-d37a-01f7c2daadb6",
        "executionInfo": {
          "status": "ok",
          "timestamp": 1525513122059,
          "user_tz": 420,
          "elapsed": 286,
          "user": {
            "displayName": "Nikhit Mago",
            "photoUrl": "//lh6.googleusercontent.com/-IOZbLxhhfXY/AAAAAAAAAAI/AAAAAAAAACw/aRWa6bD7Ugg/s50-c-k-no/photo.jpg",
            "userId": "113522563813844672954"
          }
        }
      },
      "cell_type": "code",
      "source": [
        "X.shape, y.shape"
      ],
      "execution_count": 81,
      "outputs": [
        {
          "output_type": "execute_result",
          "data": {
            "text/plain": [
              "((60000, 32, 32, 3), (60000,))"
            ]
          },
          "metadata": {
            "tags": []
          },
          "execution_count": 81
        }
      ]
    },
    {
      "metadata": {
        "id": "0ONV-8DE3Z3z",
        "colab_type": "text"
      },
      "cell_type": "markdown",
      "source": [
        "### (b) From the train and test dataset, extract the class birds. We will focus on this class, which has 6000 members."
      ]
    },
    {
      "metadata": {
        "id": "_Kx-0iARkOhx",
        "colab_type": "code",
        "colab": {
          "autoexec": {
            "startup": false,
            "wait_interval": 0
          }
        }
      },
      "cell_type": "code",
      "source": [
        "ind = [i for i,j in enumerate(y) if j == 2]"
      ],
      "execution_count": 0,
      "outputs": []
    },
    {
      "metadata": {
        "id": "H21A8FhDkOhz",
        "colab_type": "code",
        "colab": {
          "autoexec": {
            "startup": false,
            "wait_interval": 0
          }
        }
      },
      "cell_type": "code",
      "source": [
        "X = X[ind]\n",
        "y = y[ind]"
      ],
      "execution_count": 0,
      "outputs": []
    },
    {
      "metadata": {
        "id": "2of89LqlkOic",
        "colab_type": "text"
      },
      "cell_type": "markdown",
      "source": [
        "### Visualizing some images of birds"
      ]
    },
    {
      "metadata": {
        "id": "R53XAScZkOid",
        "colab_type": "code",
        "colab": {
          "autoexec": {
            "startup": false,
            "wait_interval": 0
          },
          "base_uri": "https://localhost:8080/",
          "height": 269
        },
        "outputId": "596e5fda-82a3-46aa-dfd6-f2ef387938a7",
        "executionInfo": {
          "status": "ok",
          "timestamp": 1525513123997,
          "user_tz": 420,
          "elapsed": 1237,
          "user": {
            "displayName": "Nikhit Mago",
            "photoUrl": "//lh6.googleusercontent.com/-IOZbLxhhfXY/AAAAAAAAAAI/AAAAAAAAACw/aRWa6bD7Ugg/s50-c-k-no/photo.jpg",
            "userId": "113522563813844672954"
          }
        }
      },
      "cell_type": "code",
      "source": [
        "for i in range(0,16):\n",
        "    axis = plt.subplot(4,4,i+1)\n",
        "    arr = X[i]\n",
        "    axis.imshow(arr)\n",
        "    plt.axis('off')\n",
        "plt.show()"
      ],
      "execution_count": 84,
      "outputs": [
        {
          "output_type": "display_data",
          "data": {
            "image/png": "[encoded data removed]",
            "text/plain": [
              "<matplotlib.figure.Figure at 0x7fd232c658d0>"
            ]
          },
          "metadata": {
            "tags": []
          }
        }
      ]
    },
    {
      "metadata": {
        "id": "SFW1d_6w3Z1A",
        "colab_type": "text"
      },
      "cell_type": "markdown",
      "source": [
        "### (c) Those 6000 images have 6000 × 32 × 32 pixels. Choose at least 10% of the pixels randomly. It is strongly recommended that you choose a large number or all of the pixels. You will have between P = 614400 and P = 6144000 pixels. Each pixel is an RGB vector with three elements."
      ]
    },
    {
      "metadata": {
        "id": "GtY5UkrIkOin",
        "colab_type": "code",
        "colab": {
          "autoexec": {
            "startup": false,
            "wait_interval": 0
          },
          "base_uri": "https://localhost:8080/",
          "height": 34
        },
        "outputId": "b9298c7d-b60e-4444-f144-d77b7a695fa6",
        "executionInfo": {
          "status": "ok",
          "timestamp": 1525513125480,
          "user_tz": 420,
          "elapsed": 302,
          "user": {
            "displayName": "Nikhit Mago",
            "photoUrl": "//lh6.googleusercontent.com/-IOZbLxhhfXY/AAAAAAAAAAI/AAAAAAAAACw/aRWa6bD7Ugg/s50-c-k-no/photo.jpg",
            "userId": "113522563813844672954"
          }
        }
      },
      "cell_type": "code",
      "source": [
        "X.shape, y.shape"
      ],
      "execution_count": 85,
      "outputs": [
        {
          "output_type": "execute_result",
          "data": {
            "text/plain": [
              "((6000, 32, 32, 3), (6000,))"
            ]
          },
          "metadata": {
            "tags": []
          },
          "execution_count": 85
        }
      ]
    },
    {
      "metadata": {
        "id": "I2nIgOKukOi7",
        "colab_type": "code",
        "colab": {
          "autoexec": {
            "startup": false,
            "wait_interval": 0
          }
        }
      },
      "cell_type": "code",
      "source": [
        "X = X.reshape((6144000,3))"
      ],
      "execution_count": 0,
      "outputs": []
    },
    {
      "metadata": {
        "id": "MmwpRq8OkOi9",
        "colab_type": "code",
        "colab": {
          "autoexec": {
            "startup": false,
            "wait_interval": 0
          },
          "base_uri": "https://localhost:8080/",
          "height": 34
        },
        "outputId": "8b8f2df4-2c6c-4def-b879-027c3ec6a7ac",
        "executionInfo": {
          "status": "ok",
          "timestamp": 1525513126798,
          "user_tz": 420,
          "elapsed": 298,
          "user": {
            "displayName": "Nikhit Mago",
            "photoUrl": "//lh6.googleusercontent.com/-IOZbLxhhfXY/AAAAAAAAAAI/AAAAAAAAACw/aRWa6bD7Ugg/s50-c-k-no/photo.jpg",
            "userId": "113522563813844672954"
          }
        }
      },
      "cell_type": "code",
      "source": [
        "X.shape"
      ],
      "execution_count": 87,
      "outputs": [
        {
          "output_type": "execute_result",
          "data": {
            "text/plain": [
              "(6144000, 3)"
            ]
          },
          "metadata": {
            "tags": []
          },
          "execution_count": 87
        }
      ]
    },
    {
      "metadata": {
        "id": "514NV4M23ZyM",
        "colab_type": "text"
      },
      "cell_type": "markdown",
      "source": [
        "### (d) Run k-means clustering on the P vectors using k = 4. The centers of the clusters will be your main colors. Convert the colored images to k-color images by converting each pixel’s value to the closest main color in terms of Euclidean distance. These are the outputs of your network, whose each pixel falls in one of those k classes."
      ]
    },
    {
      "metadata": {
        "id": "Aou_UkTTkOjS",
        "colab_type": "code",
        "colab": {
          "autoexec": {
            "startup": false,
            "wait_interval": 0
          }
        }
      },
      "cell_type": "code",
      "source": [
        "kmeans = KMeans(n_clusters=4,random_state=0)\n",
        "kmeans = kmeans.fit(X)"
      ],
      "execution_count": 0,
      "outputs": []
    },
    {
      "metadata": {
        "id": "a3AWHwEpkOje",
        "colab_type": "code",
        "colab": {
          "autoexec": {
            "startup": false,
            "wait_interval": 0
          },
          "base_uri": "https://localhost:8080/",
          "height": 85
        },
        "outputId": "67d59529-fffa-49e1-f5db-ac2c56d7676c",
        "executionInfo": {
          "status": "ok",
          "timestamp": 1525513221821,
          "user_tz": 420,
          "elapsed": 331,
          "user": {
            "displayName": "Nikhit Mago",
            "photoUrl": "//lh6.googleusercontent.com/-IOZbLxhhfXY/AAAAAAAAAAI/AAAAAAAAACw/aRWa6bD7Ugg/s50-c-k-no/photo.jpg",
            "userId": "113522563813844672954"
          }
        }
      },
      "cell_type": "code",
      "source": [
        "kmeans.cluster_centers_"
      ],
      "execution_count": 89,
      "outputs": [
        {
          "output_type": "execute_result",
          "data": {
            "text/plain": [
              "array([[108.97036568, 108.60691289,  82.66458238],\n",
              "       [206.53651167, 211.77549799, 211.39857871],\n",
              "       [156.18468173, 155.51640472, 135.57285659],\n",
              "       [ 49.02965771,  50.01208333,  38.57034319]])"
            ]
          },
          "metadata": {
            "tags": []
          },
          "execution_count": 89
        }
      ]
    },
    {
      "metadata": {
        "id": "NRsoqMuDkOjo",
        "colab_type": "code",
        "colab": {
          "autoexec": {
            "startup": false,
            "wait_interval": 0
          }
        }
      },
      "cell_type": "code",
      "source": [
        "X_new = X"
      ],
      "execution_count": 0,
      "outputs": []
    },
    {
      "metadata": {
        "id": "HtI3sx2glT3J",
        "colab_type": "code",
        "colab": {
          "autoexec": {
            "startup": false,
            "wait_interval": 0
          },
          "base_uri": "https://localhost:8080/",
          "height": 34
        },
        "outputId": "68bbe126-4c1b-4328-9ae6-ed0f4d33d27e",
        "executionInfo": {
          "status": "ok",
          "timestamp": 1525513222679,
          "user_tz": 420,
          "elapsed": 474,
          "user": {
            "displayName": "Nikhit Mago",
            "photoUrl": "//lh6.googleusercontent.com/-IOZbLxhhfXY/AAAAAAAAAAI/AAAAAAAAACw/aRWa6bD7Ugg/s50-c-k-no/photo.jpg",
            "userId": "113522563813844672954"
          }
        }
      },
      "cell_type": "code",
      "source": [
        "X.shape"
      ],
      "execution_count": 91,
      "outputs": [
        {
          "output_type": "execute_result",
          "data": {
            "text/plain": [
              "(6144000, 3)"
            ]
          },
          "metadata": {
            "tags": []
          },
          "execution_count": 91
        }
      ]
    },
    {
      "metadata": {
        "id": "fHOwzHIDkOjz",
        "colab_type": "code",
        "colab": {
          "autoexec": {
            "startup": false,
            "wait_interval": 0
          }
        }
      },
      "cell_type": "code",
      "source": [
        "for i in range(len(X)):\n",
        "    X_new[i] = kmeans.cluster_centers_[kmeans.labels_[i]]"
      ],
      "execution_count": 0,
      "outputs": []
    },
    {
      "metadata": {
        "id": "anshPhGnkOj0",
        "colab_type": "text"
      },
      "cell_type": "markdown",
      "source": [
        "### Visualizing some images of birds after k-means"
      ]
    },
    {
      "metadata": {
        "id": "f4GXF5rSkOj0",
        "colab_type": "code",
        "colab": {
          "autoexec": {
            "startup": false,
            "wait_interval": 0
          },
          "base_uri": "https://localhost:8080/",
          "height": 269
        },
        "outputId": "b705b416-ffd4-435d-dd57-20047ec3a2ea",
        "executionInfo": {
          "status": "ok",
          "timestamp": 1525513230633,
          "user_tz": 420,
          "elapsed": 1300,
          "user": {
            "displayName": "Nikhit Mago",
            "photoUrl": "//lh6.googleusercontent.com/-IOZbLxhhfXY/AAAAAAAAAAI/AAAAAAAAACw/aRWa6bD7Ugg/s50-c-k-no/photo.jpg",
            "userId": "113522563813844672954"
          }
        }
      },
      "cell_type": "code",
      "source": [
        "X_viz = X_new.reshape((6000,32,32,3))\n",
        "for i in range(0,16):\n",
        "    axis = plt.subplot(4,4,i+1)\n",
        "    arr = X_viz[i]\n",
        "    axis.imshow(arr)\n",
        "    plt.axis('off')\n",
        "plt.show()"
      ],
      "execution_count": 93,
      "outputs": [
        {
          "output_type": "display_data",
          "data": {
            "image/png": "[encoded data removed]",
            "text/plain": [
              "<matplotlib.figure.Figure at 0x7fd2328477f0>"
            ]
          },
          "metadata": {
            "tags": []
          }
        }
      ]
    },
    {
      "metadata": {
        "id": "GPzC9dugkOj2",
        "colab_type": "text"
      },
      "cell_type": "markdown",
      "source": [
        "The images only retain 4 colors chosen from the k-means centroid."
      ]
    },
    {
      "metadata": {
        "id": "_Ddcqe4QkOj3",
        "colab_type": "text"
      },
      "cell_type": "markdown",
      "source": [
        "### One hot encoding the output classes"
      ]
    },
    {
      "metadata": {
        "id": "iBWVnZxUkOj3",
        "colab_type": "code",
        "colab": {
          "autoexec": {
            "startup": false,
            "wait_interval": 0
          }
        }
      },
      "cell_type": "code",
      "source": [
        "y_N = keras.utils.to_categorical(kmeans.labels_).reshape((6000,32,32,4))"
      ],
      "execution_count": 0,
      "outputs": []
    },
    {
      "metadata": {
        "id": "wRXbzfJp3Zva",
        "colab_type": "text"
      },
      "cell_type": "markdown",
      "source": [
        "### (e) Use any tool (e.g., openCV or scikit-learn) to obtain grayscale 32 × 32 × 1 images from the original 32 × 32 × 3 images. The grayscale images are inputs of your network."
      ]
    },
    {
      "metadata": {
        "id": "dW8G59_fkOj5",
        "colab_type": "code",
        "colab": {
          "autoexec": {
            "startup": false,
            "wait_interval": 0
          }
        }
      },
      "cell_type": "code",
      "source": [
        "X = X.reshape((6000,32,32,3))"
      ],
      "execution_count": 0,
      "outputs": []
    },
    {
      "metadata": {
        "id": "c8_53prUkOj6",
        "colab_type": "code",
        "colab": {
          "autoexec": {
            "startup": false,
            "wait_interval": 0
          }
        }
      },
      "cell_type": "code",
      "source": [
        "X_N = []\n",
        "for i in range(len(X)):\n",
        "    X_N.append(rgb2grey(X[i]).tolist())"
      ],
      "execution_count": 0,
      "outputs": []
    },
    {
      "metadata": {
        "id": "7-Bc94cikOj7",
        "colab_type": "code",
        "colab": {
          "autoexec": {
            "startup": false,
            "wait_interval": 0
          }
        }
      },
      "cell_type": "code",
      "source": [
        "X_N = np.array(X_N)"
      ],
      "execution_count": 0,
      "outputs": []
    },
    {
      "metadata": {
        "id": "WPW5QW7-kOj8",
        "colab_type": "text"
      },
      "cell_type": "markdown",
      "source": [
        "### Visualizing some images of birds (train data) after converting to grey scale"
      ]
    },
    {
      "metadata": {
        "id": "qeRQUSgfkOj9",
        "colab_type": "code",
        "colab": {
          "autoexec": {
            "startup": false,
            "wait_interval": 0
          },
          "base_uri": "https://localhost:8080/",
          "height": 269
        },
        "outputId": "955e57c0-2a3d-40bc-e292-211f700cc22d",
        "executionInfo": {
          "status": "ok",
          "timestamp": 1525513366926,
          "user_tz": 420,
          "elapsed": 1144,
          "user": {
            "displayName": "Nikhit Mago",
            "photoUrl": "//lh6.googleusercontent.com/-IOZbLxhhfXY/AAAAAAAAAAI/AAAAAAAAACw/aRWa6bD7Ugg/s50-c-k-no/photo.jpg",
            "userId": "113522563813844672954"
          }
        }
      },
      "cell_type": "code",
      "source": [
        "for i in range(0,16):\n",
        "    axis = plt.subplot(4,4,i+1)\n",
        "    arr = X_N[i]\n",
        "    axis.imshow(arr,cmap='gray')\n",
        "    plt.axis('off')\n",
        "plt.show()"
      ],
      "execution_count": 107,
      "outputs": [
        {
          "output_type": "display_data",
          "data": {
            "image/png": "[encoded data removed]",
            "text/plain": [
              "<matplotlib.figure.Figure at 0x7fd232847080>"
            ]
          },
          "metadata": {
            "tags": []
          }
        }
      ]
    },
    {
      "metadata": {
        "id": "GFBEPKSMkOkU",
        "colab_type": "code",
        "colab": {
          "autoexec": {
            "startup": false,
            "wait_interval": 0
          }
        }
      },
      "cell_type": "code",
      "source": [
        "X_N = X_N.reshape((6000,32,32,1))"
      ],
      "execution_count": 0,
      "outputs": []
    },
    {
      "metadata": {
        "id": "JpE33nB7kOkW",
        "colab_type": "code",
        "colab": {
          "autoexec": {
            "startup": false,
            "wait_interval": 0
          },
          "base_uri": "https://localhost:8080/",
          "height": 34
        },
        "outputId": "a0015e8c-0714-436b-df04-dbcf7fb1c52e",
        "executionInfo": {
          "status": "ok",
          "timestamp": 1525513369220,
          "user_tz": 420,
          "elapsed": 325,
          "user": {
            "displayName": "Nikhit Mago",
            "photoUrl": "//lh6.googleusercontent.com/-IOZbLxhhfXY/AAAAAAAAAAI/AAAAAAAAACw/aRWa6bD7Ugg/s50-c-k-no/photo.jpg",
            "userId": "113522563813844672954"
          }
        }
      },
      "cell_type": "code",
      "source": [
        "X_N.shape, y_N.shape"
      ],
      "execution_count": 109,
      "outputs": [
        {
          "output_type": "execute_result",
          "data": {
            "text/plain": [
              "((6000, 32, 32, 1), (6000, 32, 32, 4))"
            ]
          },
          "metadata": {
            "tags": []
          },
          "execution_count": 109
        }
      ]
    },
    {
      "metadata": {
        "id": "z9DRDvIckOkY",
        "colab_type": "code",
        "colab": {
          "autoexec": {
            "startup": false,
            "wait_interval": 0
          }
        }
      },
      "cell_type": "code",
      "source": [
        "X_train = X_N[0:5984]\n",
        "y_train = y_N[0:5984]\n",
        "X_test = X_N[-16:]\n",
        "y_test = y_N[-16:]"
      ],
      "execution_count": 0,
      "outputs": []
    },
    {
      "metadata": {
        "id": "nkYoUjVJnqAR",
        "colab_type": "code",
        "colab": {
          "autoexec": {
            "startup": false,
            "wait_interval": 0
          }
        }
      },
      "cell_type": "code",
      "source": [
        "X_train = np.vstack((X_train,X_test))\n",
        "y_train = np.vstack((y_train,y_test))"
      ],
      "execution_count": 0,
      "outputs": []
    },
    {
      "metadata": {
        "id": "Qj9jIXjln9Fl",
        "colab_type": "code",
        "colab": {
          "autoexec": {
            "startup": false,
            "wait_interval": 0
          },
          "base_uri": "https://localhost:8080/",
          "height": 34
        },
        "outputId": "521b24b4-5d6a-4647-8cb8-b74aacfb3a6e",
        "executionInfo": {
          "status": "ok",
          "timestamp": 1525513371437,
          "user_tz": 420,
          "elapsed": 306,
          "user": {
            "displayName": "Nikhit Mago",
            "photoUrl": "//lh6.googleusercontent.com/-IOZbLxhhfXY/AAAAAAAAAAI/AAAAAAAAACw/aRWa6bD7Ugg/s50-c-k-no/photo.jpg",
            "userId": "113522563813844672954"
          }
        }
      },
      "cell_type": "code",
      "source": [
        "X_train.shape, y_train.shape, X_test.shape, y_test.shape"
      ],
      "execution_count": 112,
      "outputs": [
        {
          "output_type": "execute_result",
          "data": {
            "text/plain": [
              "((6000, 32, 32, 1), (6000, 32, 32, 4), (16, 32, 32, 1), (16, 32, 32, 4))"
            ]
          },
          "metadata": {
            "tags": []
          },
          "execution_count": 112
        }
      ]
    },
    {
      "metadata": {
        "id": "JHbx520T3Zs0",
        "colab_type": "text"
      },
      "cell_type": "markdown",
      "source": [
        "### (f) Set up a deep convolutional neural network with two convolution layers and two MLP layers with Use 5 × 5 filters and a softmax layer. Determine the number of filters, strides, and whether or not to use padding yourself. Use a minimum of one max pooling layer. Your input is a grayscale version of an image (32 × 32 × 1) and the output is a 32 × 32 × 3 image that is colored using the main colors. Use a classification scheme, which means your output must determine one of the k color classes for each pixel in your grayscale image. Train at least for 5 epochs. Plot training, (validation), and test errors in each epoch. Report the train and test errors and visually compare the artificially colored versions of the first 10 images in the test set with the original images."
      ]
    },
    {
      "metadata": {
        "id": "rqkWe4tSkOkb",
        "colab_type": "code",
        "colab": {
          "autoexec": {
            "startup": false,
            "wait_interval": 0
          },
          "base_uri": "https://localhost:8080/",
          "height": 340
        },
        "outputId": "2448d365-c245-41f1-925d-322aa1bf0789",
        "executionInfo": {
          "status": "ok",
          "timestamp": 1525512408480,
          "user_tz": 420,
          "elapsed": 458,
          "user": {
            "displayName": "Nikhit Mago",
            "photoUrl": "//lh6.googleusercontent.com/-IOZbLxhhfXY/AAAAAAAAAAI/AAAAAAAAACw/aRWa6bD7Ugg/s50-c-k-no/photo.jpg",
            "userId": "113522563813844672954"
          }
        }
      },
      "cell_type": "code",
      "source": [
        "cnn = Sequential()\n",
        "cnn.add(Conv2D(64, kernel_size = (5,5), strides=(1, 1), padding='same', input_shape = (32,32,1)))\n",
        "cnn.add(MaxPooling2D(pool_size=(2, 2), strides=(1, 1), padding='same'))\n",
        "cnn.add(Conv2D(64, kernel_size = (5,5), strides=(1, 1), padding='same'))\n",
        "cnn.add(MaxPooling2D(pool_size=(2, 2), strides=(1, 1), padding='same'))\n",
        "cnn.add(Dense(32, activation='softmax'))\n",
        "cnn.add(Dense(4, activation='softmax'))\n",
        "cnn.summary()"
      ],
      "execution_count": 41,
      "outputs": [
        {
          "output_type": "stream",
          "text": [
            "_________________________________________________________________\n",
            "Layer (type)                 Output Shape              Param #   \n",
            "=================================================================\n",
            "conv2d_7 (Conv2D)            (None, 32, 32, 64)        1664      \n",
            "_________________________________________________________________\n",
            "max_pooling2d_7 (MaxPooling2 (None, 32, 32, 64)        0         \n",
            "_________________________________________________________________\n",
            "conv2d_8 (Conv2D)            (None, 32, 32, 64)        102464    \n",
            "_________________________________________________________________\n",
            "max_pooling2d_8 (MaxPooling2 (None, 32, 32, 64)        0         \n",
            "_________________________________________________________________\n",
            "dense_7 (Dense)              (None, 32, 32, 32)        2080      \n",
            "_________________________________________________________________\n",
            "dense_8 (Dense)              (None, 32, 32, 4)         132       \n",
            "=================================================================\n",
            "Total params: 106,340\n",
            "Trainable params: 106,340\n",
            "Non-trainable params: 0\n",
            "_________________________________________________________________\n"
          ],
          "name": "stdout"
        }
      ]
    },
    {
      "metadata": {
        "id": "pqgFJiivkOkd",
        "colab_type": "code",
        "colab": {
          "autoexec": {
            "startup": false,
            "wait_interval": 0
          },
          "base_uri": "https://localhost:8080/",
          "height": 1331
        },
        "outputId": "828cbf7e-ee6b-4ca1-bf47-056dc3c43f46",
        "executionInfo": {
          "status": "ok",
          "timestamp": 1525512568436,
          "user_tz": 420,
          "elapsed": 159197,
          "user": {
            "displayName": "Nikhit Mago",
            "photoUrl": "//lh6.googleusercontent.com/-IOZbLxhhfXY/AAAAAAAAAAI/AAAAAAAAACw/aRWa6bD7Ugg/s50-c-k-no/photo.jpg",
            "userId": "113522563813844672954"
          }
        }
      },
      "cell_type": "code",
      "source": [
        "cnn.compile(loss='categorical_crossentropy', optimizer='sgd', metrics = ['accuracy'])\n",
        "history = cnn.fit(X_train, y_train, epochs=30, validation_split=0.1)\n",
        "plt.plot(history.history['loss'])\n",
        "plt.plot(history.history['val_loss'])\n",
        "plt.title('Train vs Validation Loss')\n",
        "plt.ylabel('Loss')\n",
        "plt.xlabel('Epoch')\n",
        "plt.legend(['Train', 'Validation'], loc='upper right')\n",
        "plt.show()"
      ],
      "execution_count": 42,
      "outputs": [
        {
          "output_type": "stream",
          "text": [
            "Train on 5400 samples, validate on 600 samples\n",
            "Epoch 1/30\n",
            "5400/5400 [==============================] - 6s 1ms/step - loss: 1.3701 - acc: 0.3075 - val_loss: 1.3626 - val_acc: 0.3317\n",
            "Epoch 2/30\n",
            "5400/5400 [==============================] - 5s 983us/step - loss: 1.3540 - acc: 0.3385 - val_loss: 1.3538 - val_acc: 0.3317\n",
            "Epoch 3/30\n",
            "5400/5400 [==============================] - 5s 973us/step - loss: 1.3466 - acc: 0.3385 - val_loss: 1.3497 - val_acc: 0.3317\n",
            "Epoch 4/30\n",
            "3488/5400 [==================>...........] - ETA: 1s - loss: 1.3433 - acc: 0.3374"
          ],
          "name": "stdout"
        },
        {
          "output_type": "stream",
          "text": [
            "5400/5400 [==============================] - 5s 975us/step - loss: 1.3428 - acc: 0.3385 - val_loss: 1.3475 - val_acc: 0.3317\n",
            "Epoch 5/30\n",
            "5400/5400 [==============================] - 5s 972us/step - loss: 1.3404 - acc: 0.3385 - val_loss: 1.3458 - val_acc: 0.3317\n",
            "Epoch 6/30\n",
            "5400/5400 [==============================] - 5s 971us/step - loss: 1.3383 - acc: 0.3385 - val_loss: 1.3441 - val_acc: 0.3317\n",
            "Epoch 7/30\n",
            "5400/5400 [==============================] - 5s 962us/step - loss: 1.3362 - acc: 0.3385 - val_loss: 1.3419 - val_acc: 0.3317\n",
            "Epoch 8/30\n",
            " 672/5400 [==>...........................] - ETA: 4s - loss: 1.3356 - acc: 0.3366"
          ],
          "name": "stdout"
        },
        {
          "output_type": "stream",
          "text": [
            "5400/5400 [==============================] - 5s 974us/step - loss: 1.3335 - acc: 0.3385 - val_loss: 1.3386 - val_acc: 0.3317\n",
            "Epoch 9/30\n",
            "5400/5400 [==============================] - 5s 971us/step - loss: 1.3288 - acc: 0.3387 - val_loss: 1.3313 - val_acc: 0.3335\n",
            "Epoch 10/30\n",
            "5400/5400 [==============================] - 5s 968us/step - loss: 1.3185 - acc: 0.3919 - val_loss: 1.3183 - val_acc: 0.4461\n",
            "Epoch 11/30\n",
            "5400/5400 [==============================] - 5s 987us/step - loss: 1.3076 - acc: 0.4680 - val_loss: 1.3080 - val_acc: 0.4611\n",
            "Epoch 12/30\n",
            " 288/5400 [>.............................] - ETA: 4s - loss: 1.3174 - acc: 0.4466"
          ],
          "name": "stdout"
        },
        {
          "output_type": "stream",
          "text": [
            "5400/5400 [==============================] - 5s 980us/step - loss: 1.2968 - acc: 0.4757 - val_loss: 1.2962 - val_acc: 0.4699\n",
            "Epoch 13/30\n",
            "5400/5400 [==============================] - 5s 976us/step - loss: 1.2843 - acc: 0.4855 - val_loss: 1.2828 - val_acc: 0.4762\n",
            "Epoch 14/30\n",
            "5400/5400 [==============================] - 5s 979us/step - loss: 1.2698 - acc: 0.4908 - val_loss: 1.2671 - val_acc: 0.4827\n",
            "Epoch 15/30\n",
            "5400/5400 [==============================] - 5s 982us/step - loss: 1.2532 - acc: 0.4968 - val_loss: 1.2490 - val_acc: 0.4856\n",
            "Epoch 16/30\n",
            " 224/5400 [>.............................] - ETA: 4s - loss: 1.2311 - acc: 0.5247"
          ],
          "name": "stdout"
        },
        {
          "output_type": "stream",
          "text": [
            "5400/5400 [==============================] - 5s 970us/step - loss: 1.2340 - acc: 0.5005 - val_loss: 1.2282 - val_acc: 0.4899\n",
            "Epoch 17/30\n",
            "5400/5400 [==============================] - 5s 976us/step - loss: 1.2122 - acc: 0.5047 - val_loss: 1.2048 - val_acc: 0.4954\n",
            "Epoch 18/30\n",
            "5400/5400 [==============================] - 5s 980us/step - loss: 1.1880 - acc: 0.5122 - val_loss: 1.1794 - val_acc: 0.5055\n",
            "Epoch 19/30\n",
            "5400/5400 [==============================] - 5s 983us/step - loss: 1.1622 - acc: 0.5191 - val_loss: 1.1529 - val_acc: 0.5101\n",
            "Epoch 20/30\n",
            " 224/5400 [>.............................] - ETA: 4s - loss: 1.1494 - acc: 0.5178"
          ],
          "name": "stdout"
        },
        {
          "output_type": "stream",
          "text": [
            "5400/5400 [==============================] - 5s 971us/step - loss: 1.1359 - acc: 0.5253 - val_loss: 1.1266 - val_acc: 0.5183\n",
            "Epoch 21/30\n",
            "5400/5400 [==============================] - 5s 978us/step - loss: 1.1101 - acc: 0.5326 - val_loss: 1.1012 - val_acc: 0.5240\n",
            "Epoch 22/30\n",
            "5400/5400 [==============================] - 5s 968us/step - loss: 1.0854 - acc: 0.5369 - val_loss: 1.0772 - val_acc: 0.5268\n",
            "Epoch 23/30\n",
            "5400/5400 [==============================] - 5s 976us/step - loss: 1.0620 - acc: 0.5397 - val_loss: 1.0545 - val_acc: 0.5301\n",
            "Epoch 24/30\n",
            " 224/5400 [>.............................] - ETA: 4s - loss: 1.0480 - acc: 0.5494"
          ],
          "name": "stdout"
        },
        {
          "output_type": "stream",
          "text": [
            "5400/5400 [==============================] - 5s 981us/step - loss: 1.0397 - acc: 0.5422 - val_loss: 1.0324 - val_acc: 0.5328\n",
            "Epoch 25/30\n",
            "5400/5400 [==============================] - 5s 968us/step - loss: 1.0170 - acc: 0.5449 - val_loss: 1.0089 - val_acc: 0.5351\n",
            "Epoch 26/30\n",
            "5400/5400 [==============================] - 5s 961us/step - loss: 0.9906 - acc: 0.5491 - val_loss: 0.9797 - val_acc: 0.5421\n",
            "Epoch 27/30\n",
            "5400/5400 [==============================] - 5s 970us/step - loss: 0.9595 - acc: 0.5579 - val_loss: 0.9489 - val_acc: 0.5471\n",
            "Epoch 28/30\n",
            " 224/5400 [>.............................] - ETA: 4s - loss: 0.9468 - acc: 0.5473"
          ],
          "name": "stdout"
        },
        {
          "output_type": "stream",
          "text": [
            "5400/5400 [==============================] - 5s 976us/step - loss: 0.9295 - acc: 0.5599 - val_loss: 0.9201 - val_acc: 0.5502\n",
            "Epoch 29/30\n",
            "5400/5400 [==============================] - 5s 971us/step - loss: 0.9012 - acc: 0.6286 - val_loss: 0.8925 - val_acc: 0.6534\n",
            "Epoch 30/30\n",
            "5400/5400 [==============================] - 5s 978us/step - loss: 0.8740 - acc: 0.6771 - val_loss: 0.8659 - val_acc: 0.6775\n"
          ],
          "name": "stdout"
        },
        {
          "output_type": "display_data",
          "data": {
            "image/png": "[encoded data removed]",
            "text/plain": [
              "<matplotlib.figure.Figure at 0x7fd233d41ba8>"
            ]
          },
          "metadata": {
            "tags": []
          }
        }
      ]
    },
    {
      "metadata": {
        "id": "ksnTllbIkOkg",
        "colab_type": "code",
        "colab": {
          "autoexec": {
            "startup": false,
            "wait_interval": 0
          }
        }
      },
      "cell_type": "code",
      "source": [
        "predictions = cnn.predict(X_test)"
      ],
      "execution_count": 0,
      "outputs": []
    },
    {
      "metadata": {
        "id": "3CUIoTGgrwNK",
        "colab_type": "code",
        "colab": {
          "autoexec": {
            "startup": false,
            "wait_interval": 0
          },
          "base_uri": "https://localhost:8080/",
          "height": 34
        },
        "outputId": "9d0e80aa-a4d0-4f0b-b8c5-85f6a9c7360a",
        "executionInfo": {
          "status": "ok",
          "timestamp": 1525514289420,
          "user_tz": 420,
          "elapsed": 437,
          "user": {
            "displayName": "Nikhit Mago",
            "photoUrl": "//lh6.googleusercontent.com/-IOZbLxhhfXY/AAAAAAAAAAI/AAAAAAAAACw/aRWa6bD7Ugg/s50-c-k-no/photo.jpg",
            "userId": "113522563813844672954"
          }
        }
      },
      "cell_type": "code",
      "source": [
        "predictions.shape"
      ],
      "execution_count": 187,
      "outputs": [
        {
          "output_type": "execute_result",
          "data": {
            "text/plain": [
              "(16, 32, 32, 4)"
            ]
          },
          "metadata": {
            "tags": []
          },
          "execution_count": 187
        }
      ]
    },
    {
      "metadata": {
        "id": "SnXj0dvIkOki",
        "colab_type": "code",
        "colab": {
          "autoexec": {
            "startup": false,
            "wait_interval": 0
          }
        }
      },
      "cell_type": "code",
      "source": [
        "predictions = predictions.reshape((16384,4))"
      ],
      "execution_count": 0,
      "outputs": []
    },
    {
      "metadata": {
        "id": "NvL8ym3ekOkj",
        "colab_type": "code",
        "colab": {
          "autoexec": {
            "startup": false,
            "wait_interval": 0
          }
        }
      },
      "cell_type": "code",
      "source": [
        "pred = predictions[:,0:3]"
      ],
      "execution_count": 0,
      "outputs": []
    },
    {
      "metadata": {
        "id": "HtYjmeczkOkk",
        "colab_type": "code",
        "colab": {
          "autoexec": {
            "startup": false,
            "wait_interval": 0
          }
        }
      },
      "cell_type": "code",
      "source": [
        "for i in range(len(predictions)):\n",
        "    pred[i] = kmeans.cluster_centers_[np.argmax(predictions[i])].tolist()"
      ],
      "execution_count": 0,
      "outputs": []
    },
    {
      "metadata": {
        "id": "hFyczKbzkOkl",
        "colab_type": "code",
        "colab": {
          "autoexec": {
            "startup": false,
            "wait_interval": 0
          }
        }
      },
      "cell_type": "code",
      "source": [
        "pred = pred.reshape((16,32,32,3))"
      ],
      "execution_count": 0,
      "outputs": []
    },
    {
      "metadata": {
        "id": "N1asDNo3vPVa",
        "colab_type": "text"
      },
      "cell_type": "markdown",
      "source": [
        "### Original Test Values"
      ]
    },
    {
      "metadata": {
        "id": "WgG_EiSukOko",
        "colab_type": "code",
        "colab": {
          "autoexec": {
            "startup": false,
            "wait_interval": 0
          },
          "base_uri": "https://localhost:8080/",
          "height": 269
        },
        "outputId": "bca45d91-d713-4109-bdfe-be4a93108ac9",
        "executionInfo": {
          "status": "ok",
          "timestamp": 1525514399872,
          "user_tz": 420,
          "elapsed": 1172,
          "user": {
            "displayName": "Nikhit Mago",
            "photoUrl": "//lh6.googleusercontent.com/-IOZbLxhhfXY/AAAAAAAAAAI/AAAAAAAAACw/aRWa6bD7Ugg/s50-c-k-no/photo.jpg",
            "userId": "113522563813844672954"
          }
        }
      },
      "cell_type": "code",
      "source": [
        "for i in range(0,16):\n",
        "    axis = plt.subplot(4,4,i+1)\n",
        "    arr = X_test.reshape(16,32,32)[i]\n",
        "    axis.imshow(arr)\n",
        "    plt.axis('off')\n",
        "plt.show()"
      ],
      "execution_count": 195,
      "outputs": [
        {
          "output_type": "display_data",
          "data": {
            "image/png": "[encoded data removed]",
            "text/plain": [
              "<matplotlib.figure.Figure at 0x7fd21ff1dc18>"
            ]
          },
          "metadata": {
            "tags": []
          }
        }
      ]
    },
    {
      "metadata": {
        "id": "YrXjY-uJvp1M",
        "colab_type": "text"
      },
      "cell_type": "markdown",
      "source": [
        "### Predicted Values (Note the colors are messed up due to the floating point conversion. I tried fixing it a lot but did not happen. You can check that it's predicting the cluster centers in the code after the images)"
      ]
    },
    {
      "metadata": {
        "id": "Uqj-aAv6vj_e",
        "colab_type": "code",
        "colab": {
          "autoexec": {
            "startup": false,
            "wait_interval": 0
          },
          "base_uri": "https://localhost:8080/",
          "height": 269
        },
        "outputId": "b3fcf560-2b9e-4cc3-823f-141a339e089c",
        "executionInfo": {
          "status": "ok",
          "timestamp": 1525514489717,
          "user_tz": 420,
          "elapsed": 1115,
          "user": {
            "displayName": "Nikhit Mago",
            "photoUrl": "//lh6.googleusercontent.com/-IOZbLxhhfXY/AAAAAAAAAAI/AAAAAAAAACw/aRWa6bD7Ugg/s50-c-k-no/photo.jpg",
            "userId": "113522563813844672954"
          }
        }
      },
      "cell_type": "code",
      "source": [
        "for i in range(0,16):\n",
        "    axis = plt.subplot(4,4,i+1)\n",
        "    arr = pred[i]\n",
        "    axis.imshow(arr)\n",
        "    plt.axis('off')\n",
        "plt.show()"
      ],
      "execution_count": 197,
      "outputs": [
        {
          "output_type": "display_data",
          "data": {
            "image/png": "[encoded data removed]",
            "text/plain": [
              "<matplotlib.figure.Figure at 0x7fd21faee7b8>"
            ]
          },
          "metadata": {
            "tags": []
          }
        }
      ]
    },
    {
      "metadata": {
        "id": "0dJpobcqwJJX",
        "colab_type": "text"
      },
      "cell_type": "markdown",
      "source": [
        "### Predicts the cluster centers"
      ]
    },
    {
      "metadata": {
        "id": "IUOKcvx5v5dQ",
        "colab_type": "code",
        "colab": {
          "autoexec": {
            "startup": false,
            "wait_interval": 0
          },
          "base_uri": "https://localhost:8080/",
          "height": 850
        },
        "outputId": "fe195cc8-fc56-42f0-fea6-08e29ddd920a",
        "executionInfo": {
          "status": "ok",
          "timestamp": 1525514531715,
          "user_tz": 420,
          "elapsed": 327,
          "user": {
            "displayName": "Nikhit Mago",
            "photoUrl": "//lh6.googleusercontent.com/-IOZbLxhhfXY/AAAAAAAAAAI/AAAAAAAAACw/aRWa6bD7Ugg/s50-c-k-no/photo.jpg",
            "userId": "113522563813844672954"
          }
        }
      },
      "cell_type": "code",
      "source": [
        "pred[0]"
      ],
      "execution_count": 199,
      "outputs": [
        {
          "output_type": "execute_result",
          "data": {
            "text/plain": [
              "array([[[156.18468, 155.5164 , 135.57286],\n",
              "        [156.18468, 155.5164 , 135.57286],\n",
              "        [156.18468, 155.5164 , 135.57286],\n",
              "        ...,\n",
              "        [156.18468, 155.5164 , 135.57286],\n",
              "        [156.18468, 155.5164 , 135.57286],\n",
              "        [156.18468, 155.5164 , 135.57286]],\n",
              "\n",
              "       [[156.18468, 155.5164 , 135.57286],\n",
              "        [156.18468, 155.5164 , 135.57286],\n",
              "        [156.18468, 155.5164 , 135.57286],\n",
              "        ...,\n",
              "        [156.18468, 155.5164 , 135.57286],\n",
              "        [156.18468, 155.5164 , 135.57286],\n",
              "        [156.18468, 155.5164 , 135.57286]],\n",
              "\n",
              "       [[156.18468, 155.5164 , 135.57286],\n",
              "        [156.18468, 155.5164 , 135.57286],\n",
              "        [156.18468, 155.5164 , 135.57286],\n",
              "        ...,\n",
              "        [156.18468, 155.5164 , 135.57286],\n",
              "        [156.18468, 155.5164 , 135.57286],\n",
              "        [156.18468, 155.5164 , 135.57286]],\n",
              "\n",
              "       ...,\n",
              "\n",
              "       [[156.18468, 155.5164 , 135.57286],\n",
              "        [156.18468, 155.5164 , 135.57286],\n",
              "        [156.18468, 155.5164 , 135.57286],\n",
              "        ...,\n",
              "        [156.18468, 155.5164 , 135.57286],\n",
              "        [156.18468, 155.5164 , 135.57286],\n",
              "        [156.18468, 155.5164 , 135.57286]],\n",
              "\n",
              "       [[156.18468, 155.5164 , 135.57286],\n",
              "        [156.18468, 155.5164 , 135.57286],\n",
              "        [156.18468, 155.5164 , 135.57286],\n",
              "        ...,\n",
              "        [156.18468, 155.5164 , 135.57286],\n",
              "        [156.18468, 155.5164 , 135.57286],\n",
              "        [156.18468, 155.5164 , 135.57286]],\n",
              "\n",
              "       [[156.18468, 155.5164 , 135.57286],\n",
              "        [156.18468, 155.5164 , 135.57286],\n",
              "        [156.18468, 155.5164 , 135.57286],\n",
              "        ...,\n",
              "        [156.18468, 155.5164 , 135.57286],\n",
              "        [156.18468, 155.5164 , 135.57286],\n",
              "        [156.18468, 155.5164 , 135.57286]]], dtype=float32)"
            ]
          },
          "metadata": {
            "tags": []
          },
          "execution_count": 199
        }
      ]
    },
    {
      "metadata": {
        "id": "NXA1eL28wGCf",
        "colab_type": "code",
        "colab": {
          "autoexec": {
            "startup": false,
            "wait_interval": 0
          }
        }
      },
      "cell_type": "code",
      "source": [
        ""
      ],
      "execution_count": 0,
      "outputs": []
    }
  ]
}